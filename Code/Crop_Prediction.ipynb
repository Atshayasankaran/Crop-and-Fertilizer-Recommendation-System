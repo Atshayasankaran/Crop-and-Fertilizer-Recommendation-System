{
  "nbformat": 4,
  "nbformat_minor": 0,
  "metadata": {
    "colab": {
      "provenance": []
    },
    "kernelspec": {
      "name": "python3",
      "display_name": "Python 3"
    },
    "language_info": {
      "name": "python"
    }
  },
  "cells": [
    {
      "cell_type": "code",
      "metadata": {
        "id": "1G13wG3QZH01"
      },
      "source": [
        "import numpy as np\n",
        "import pandas as pd\n",
        "from sklearn.model_selection import train_test_split\n",
        "from sklearn.preprocessing import StandardScaler\n",
        "from sklearn.metrics import classification_report, confusion_matrix"
      ],
      "execution_count": null,
      "outputs": []
    },
    {
      "cell_type": "code",
      "metadata": {
        "colab": {
          "base_uri": "https://localhost:8080/",
          "height": 202
        },
        "id": "bbnBIp08ZYKC",
        "outputId": "d42a750f-4b80-4c8c-8dd5-1e4fc1af77b1"
      },
      "source": [
        "data=pd.read_csv('/content/drive/MyDrive/agriculture dataset/Crop_recommendation.csv')\n",
        "data.head()\n"
      ],
      "execution_count": null,
      "outputs": [
        {
          "output_type": "execute_result",
          "data": {
            "text/html": [
              "<div>\n",
              "<style scoped>\n",
              "    .dataframe tbody tr th:only-of-type {\n",
              "        vertical-align: middle;\n",
              "    }\n",
              "\n",
              "    .dataframe tbody tr th {\n",
              "        vertical-align: top;\n",
              "    }\n",
              "\n",
              "    .dataframe thead th {\n",
              "        text-align: right;\n",
              "    }\n",
              "</style>\n",
              "<table border=\"1\" class=\"dataframe\">\n",
              "  <thead>\n",
              "    <tr style=\"text-align: right;\">\n",
              "      <th></th>\n",
              "      <th>N</th>\n",
              "      <th>P</th>\n",
              "      <th>K</th>\n",
              "      <th>temperature</th>\n",
              "      <th>humidity</th>\n",
              "      <th>ph</th>\n",
              "      <th>rainfall</th>\n",
              "      <th>label</th>\n",
              "    </tr>\n",
              "  </thead>\n",
              "  <tbody>\n",
              "    <tr>\n",
              "      <th>0</th>\n",
              "      <td>90</td>\n",
              "      <td>42</td>\n",
              "      <td>43</td>\n",
              "      <td>20.879744</td>\n",
              "      <td>82.002744</td>\n",
              "      <td>6.502985</td>\n",
              "      <td>202.935536</td>\n",
              "      <td>rice</td>\n",
              "    </tr>\n",
              "    <tr>\n",
              "      <th>1</th>\n",
              "      <td>85</td>\n",
              "      <td>58</td>\n",
              "      <td>41</td>\n",
              "      <td>21.770462</td>\n",
              "      <td>80.319644</td>\n",
              "      <td>7.038096</td>\n",
              "      <td>226.655537</td>\n",
              "      <td>rice</td>\n",
              "    </tr>\n",
              "    <tr>\n",
              "      <th>2</th>\n",
              "      <td>60</td>\n",
              "      <td>55</td>\n",
              "      <td>44</td>\n",
              "      <td>23.004459</td>\n",
              "      <td>82.320763</td>\n",
              "      <td>7.840207</td>\n",
              "      <td>263.964248</td>\n",
              "      <td>rice</td>\n",
              "    </tr>\n",
              "    <tr>\n",
              "      <th>3</th>\n",
              "      <td>74</td>\n",
              "      <td>35</td>\n",
              "      <td>40</td>\n",
              "      <td>26.491096</td>\n",
              "      <td>80.158363</td>\n",
              "      <td>6.980401</td>\n",
              "      <td>242.864034</td>\n",
              "      <td>rice</td>\n",
              "    </tr>\n",
              "    <tr>\n",
              "      <th>4</th>\n",
              "      <td>78</td>\n",
              "      <td>42</td>\n",
              "      <td>42</td>\n",
              "      <td>20.130175</td>\n",
              "      <td>81.604873</td>\n",
              "      <td>7.628473</td>\n",
              "      <td>262.717340</td>\n",
              "      <td>rice</td>\n",
              "    </tr>\n",
              "  </tbody>\n",
              "</table>\n",
              "</div>"
            ],
            "text/plain": [
              "    N   P   K  temperature   humidity        ph    rainfall label\n",
              "0  90  42  43    20.879744  82.002744  6.502985  202.935536  rice\n",
              "1  85  58  41    21.770462  80.319644  7.038096  226.655537  rice\n",
              "2  60  55  44    23.004459  82.320763  7.840207  263.964248  rice\n",
              "3  74  35  40    26.491096  80.158363  6.980401  242.864034  rice\n",
              "4  78  42  42    20.130175  81.604873  7.628473  262.717340  rice"
            ]
          },
          "metadata": {
            "tags": []
          },
          "execution_count": 32
        }
      ]
    },
    {
      "cell_type": "code",
      "metadata": {
        "colab": {
          "base_uri": "https://localhost:8080/"
        },
        "id": "9SAPwCsV_L1C",
        "outputId": "76bd48e2-1d96-4f3b-af7f-48d1a3262a71"
      },
      "source": [
        "data.shape"
      ],
      "execution_count": null,
      "outputs": [
        {
          "output_type": "execute_result",
          "data": {
            "text/plain": [
              "(2200, 8)"
            ]
          },
          "metadata": {
            "tags": []
          },
          "execution_count": 36
        }
      ]
    },
    {
      "cell_type": "code",
      "metadata": {
        "colab": {
          "base_uri": "https://localhost:8080/"
        },
        "id": "NeDHrkXdcqrT",
        "outputId": "cbb671c7-f616-4955-d23f-ca30e505a079"
      },
      "source": [
        "features = data.iloc[:,0:7].values\n",
        "labels = data.iloc[:, 7].values\n",
        "print(features)\n"
      ],
      "execution_count": null,
      "outputs": [
        {
          "output_type": "stream",
          "text": [
            "[[ 90.          42.          43.         ...  82.00274423   6.50298529\n",
            "  202.9355362 ]\n",
            " [ 85.          58.          41.         ...  80.31964408   7.03809636\n",
            "  226.6555374 ]\n",
            " [ 60.          55.          44.         ...  82.3207629    7.84020714\n",
            "  263.9642476 ]\n",
            " ...\n",
            " [118.          33.          30.         ...  67.22512329   6.36260785\n",
            "  173.3228386 ]\n",
            " [117.          32.          34.         ...  52.12739421   6.75879255\n",
            "  127.1752928 ]\n",
            " [104.          18.          30.         ...  60.39647474   6.77983261\n",
            "  140.9370415 ]]\n"
          ],
          "name": "stdout"
        }
      ]
    },
    {
      "cell_type": "code",
      "metadata": {
        "colab": {
          "base_uri": "https://localhost:8080/"
        },
        "id": "2T8N9aaUcyqp",
        "outputId": "9e33347d-4c3c-406d-c32b-7c584781b1a8"
      },
      "source": [
        "from sklearn.model_selection import train_test_split\n",
        "ratio_train = 0.8\n",
        "ratio_val = 0.1\n",
        "ratio_test = 0.1\n",
        "x_remaining, x_test, y_remaining, y_test = train_test_split(features, labels, test_size=ratio_test,random_state=10)\n",
        "ratio_remaining = 1 - ratio_test\n",
        "ratio_val_adjusted = ratio_val / ratio_remaining\n",
        "x_train, x_val, y_train, y_val = train_test_split(x_remaining, y_remaining, test_size=ratio_val_adjusted,random_state=10)\n",
        "print(x_train)\n"
      ],
      "execution_count": null,
      "outputs": [
        {
          "output_type": "stream",
          "text": [
            "[[ 93.          41.          17.         ...  66.50415474   6.04790668\n",
            "  105.4654703 ]\n",
            " [ 26.           9.          32.         ...  94.73860514   6.47046561\n",
            "  144.1571109 ]\n",
            " [ 42.          61.          22.         ...  62.28814857   7.41865067\n",
            "   70.23207557]\n",
            " ...\n",
            " [ 86.          76.          54.         ...  80.11585705   5.92682475\n",
            "   90.10978128]\n",
            " [ 99.          40.          32.         ...  69.94807345   7.04554306\n",
            "  163.2708732 ]\n",
            " [ 20.           7.           9.         ...  91.57802915   7.12913694\n",
            "  111.1727497 ]]\n"
          ],
          "name": "stdout"
        }
      ]
    },
    {
      "cell_type": "code",
      "metadata": {
        "id": "m55-Ah5uc4fY"
      },
      "source": [
        "from sklearn.preprocessing import StandardScaler\n",
        "scaler = StandardScaler()\n",
        "x_train = scaler.fit_transform(x_train)\n",
        "x_test = scaler.fit_transform(x_test)\n",
        "x_val = scaler.fit_transform(x_val)\n"
      ],
      "execution_count": null,
      "outputs": []
    },
    {
      "cell_type": "code",
      "metadata": {
        "colab": {
          "base_uri": "https://localhost:8080/"
        },
        "id": "C6twd9gaqKFh",
        "outputId": "98f9f3b1-d597-4dd9-bd69-09ca6430132c"
      },
      "source": [
        "from sklearn import svm\n",
        "from sklearn.metrics import classification_report, confusion_matrix\n",
        "SVM = svm.SVC()\n",
        "SVM.fit(x_train, y_train)\n",
        "svmpredictions = SVM.predict(x_test)\n",
        "print(confusion_matrix(y_test,svmpredictions))\n",
        "print(classification_report(y_test,svmpredictions))"
      ],
      "execution_count": null,
      "outputs": [
        {
          "output_type": "stream",
          "text": [
            "[[ 3  0  0  0  0  0  0  0  0  0  0  0  0  0  0  0  0  0  0  0  0  0]\n",
            " [ 0 10  0  0  0  0  0  0  0  0  0  0  0  0  0  0  0  0  0  0  0  0]\n",
            " [ 0  0 11  0  0  0  0  0  0  0  1  0  0  0  0  0  0  0  0  0  0  0]\n",
            " [ 0  0  0 10  0  0  0  0  0  0  0  0  0  0  0  0  0  0  0  0  0  0]\n",
            " [ 0  0  0  0 15  0  0  0  0  0  0  0  0  0  0  0  0  0  0  1  0  0]\n",
            " [ 0  0  0  0  0 12  0  0  0  0  0  0  0  0  0  0  0  0  0  0  0  0]\n",
            " [ 0  0  0  0  0  0 17  0  0  0  0  0  0  0  0  0  0  0  0  0  0  0]\n",
            " [ 0  0  0  0  0  0  0  8  0  0  0  0  0  0  0  0  0  0  0  0  0  0]\n",
            " [ 0  0  0  0  0  0  0  0  7  0  0  0  0  0  0  0  0  0  0  0  0  0]\n",
            " [ 0  0  0  0  0  0  0  0  0 10  0  0  0  0  0  0  0  0  0  0  0  0]\n",
            " [ 0  0  0  0  0  0  0  0  0  0 10  0  0  0  0  0  0  0  0  0  0  0]\n",
            " [ 0  0  0  0  0  0  0  0  0  0  0 16  0  0  0  0  0  0  0  0  0  0]\n",
            " [ 0  0  0  0  0  0  0  0  0  0  0  0 10  0  0  0  0  0  0  0  0  0]\n",
            " [ 0  0  0  0  0  0  0  0  0  0  0  0  0  7  0  0  0  0  0  0  0  0]\n",
            " [ 0  0  0  0  0  0  0  0  0  0  0  0  0  0  7  0  0  0  0  0  0  0]\n",
            " [ 0  0  0  0  0  0  0  0  0  0  0  0  0  0  0 10  0  0  0  0  0  0]\n",
            " [ 0  0  0  0  0  0  0  0  0  0  0  0  0  0  0  0 10  0  0  0  0  0]\n",
            " [ 0  0  0  0  0  0  0  0  0  0  0  0  0  0  0  0  0  8  0  0  0  0]\n",
            " [ 0  0  1  0  0  0  0  0  0  0  0  0  0  0  0  0  0  0  7  0  0  0]\n",
            " [ 0  0  0  0  0  0  0  0  0  0  0  0  0  0  0  0  0  0  0 11  0  0]\n",
            " [ 0  0  0  0  0  0  0  0  2  0  0  0  0  0  0  0  0  0  0  0 11  0]\n",
            " [ 0  0  0  0  0  0  0  0  0  0  0  0  0  0  0  0  0  0  0  0  0  5]]\n",
            "              precision    recall  f1-score   support\n",
            "\n",
            "       apple       1.00      1.00      1.00         3\n",
            "      banana       1.00      1.00      1.00        10\n",
            "   blackgram       0.92      0.92      0.92        12\n",
            "    chickpea       1.00      1.00      1.00        10\n",
            "     coconut       1.00      0.94      0.97        16\n",
            "      coffee       1.00      1.00      1.00        12\n",
            "      cotton       1.00      1.00      1.00        17\n",
            "      grapes       1.00      1.00      1.00         8\n",
            "        jute       0.78      1.00      0.88         7\n",
            " kidneybeans       1.00      1.00      1.00        10\n",
            "      lentil       0.91      1.00      0.95        10\n",
            "       maize       1.00      1.00      1.00        16\n",
            "       mango       1.00      1.00      1.00        10\n",
            "   mothbeans       1.00      1.00      1.00         7\n",
            "    mungbean       1.00      1.00      1.00         7\n",
            "   muskmelon       1.00      1.00      1.00        10\n",
            "      orange       1.00      1.00      1.00        10\n",
            "      papaya       1.00      1.00      1.00         8\n",
            "  pigeonpeas       1.00      0.88      0.93         8\n",
            " pomegranate       0.92      1.00      0.96        11\n",
            "        rice       1.00      0.85      0.92        13\n",
            "  watermelon       1.00      1.00      1.00         5\n",
            "\n",
            "    accuracy                           0.98       220\n",
            "   macro avg       0.98      0.98      0.98       220\n",
            "weighted avg       0.98      0.98      0.98       220\n",
            "\n"
          ],
          "name": "stdout"
        }
      ]
    },
    {
      "cell_type": "code",
      "metadata": {
        "colab": {
          "base_uri": "https://localhost:8080/"
        },
        "id": "NJ4TGzF4sYWH",
        "outputId": "853db5fc-be15-4191-8b4b-d1cda3193312"
      },
      "source": [
        "from sklearn.tree import DecisionTreeClassifier\n",
        "from sklearn.metrics import classification_report, confusion_matrix\n",
        "decision_tree = DecisionTreeClassifier()\n",
        "decision_tree.fit(x_train, y_train)\n",
        "dtpredictions = decision_tree.predict(x_test)\n",
        "print(confusion_matrix(y_test,dtpredictions))\n",
        "print(classification_report(y_test,dtpredictions))"
      ],
      "execution_count": null,
      "outputs": [
        {
          "output_type": "stream",
          "text": [
            "[[ 3  0  0  0  0  0  0  0  0  0  0  0  0  0  0  0  0  0  0  0  0  0]\n",
            " [ 0 10  0  0  0  0  0  0  0  0  0  0  0  0  0  0  0  0  0  0  0  0]\n",
            " [ 0  0 12  0  0  0  0  0  0  0  0  0  0  0  0  0  0  0  0  0  0  0]\n",
            " [ 0  0  0 10  0  0  0  0  0  0  0  0  0  0  0  0  0  0  0  0  0  0]\n",
            " [ 0  0  0  0 16  0  0  0  0  0  0  0  0  0  0  0  0  0  0  0  0  0]\n",
            " [ 0  0  0  0  0 12  0  0  0  0  0  0  0  0  0  0  0  0  0  0  0  0]\n",
            " [ 0  0  0  0  0  0 12  0  0  0  0  3  0  0  2  0  0  0  0  0  0  0]\n",
            " [ 0  0  0  0  0  0  0  8  0  0  0  0  0  0  0  0  0  0  0  0  0  0]\n",
            " [ 0  0  0  0  0  0  0  0  7  0  0  0  0  0  0  0  0  0  0  0  0  0]\n",
            " [ 0  0  0  1  0  0  0  0  0  9  0  0  0  0  0  0  0  0  0  0  0  0]\n",
            " [ 0  0  0  0  0  0  0  0  0  0 10  0  0  0  0  0  0  0  0  0  0  0]\n",
            " [ 0  0  0  0  0  0  0  0  0  0  0 13  0  2  0  0  0  0  1  0  0  0]\n",
            " [ 0  0  0  0  0  0  0  0  0  0  0  0 10  0  0  0  0  0  0  0  0  0]\n",
            " [ 0  0  0  0  0  0  0  0  0  0  0  0  0  7  0  0  0  0  0  0  0  0]\n",
            " [ 0  0  0  0  0  0  0  0  0  0  0  0  0  0  7  0  0  0  0  0  0  0]\n",
            " [ 0  0  0  0  0  0  0  0  0  0  0  0  0  0  0  9  0  0  0  0  0  1]\n",
            " [ 0  0  0  0  0  0  0  0  0  0  0  0  0  0  0  0 10  0  0  0  0  0]\n",
            " [ 0  0  0  0  0  0  0  0  0  0  0  0  0  0  0  0  0  8  0  0  0  0]\n",
            " [ 0  0  0  0  0  0  0  0  0  0  0  0  0  0  0  0  0  0  8  0  0  0]\n",
            " [ 0  0  0  0  0  0  0  0  0  0  0  0  0  0  0  0  0  0  0 11  0  0]\n",
            " [ 0  0  0  0  0  0  0  0  0  0  0  0  0  0  0  0  0  0  0  0 13  0]\n",
            " [ 0  0  0  0  0  0  0  0  0  0  0  0  0  0  0  0  0  0  0  0  0  5]]\n",
            "              precision    recall  f1-score   support\n",
            "\n",
            "       apple       1.00      1.00      1.00         3\n",
            "      banana       1.00      1.00      1.00        10\n",
            "   blackgram       1.00      1.00      1.00        12\n",
            "    chickpea       0.91      1.00      0.95        10\n",
            "     coconut       1.00      1.00      1.00        16\n",
            "      coffee       1.00      1.00      1.00        12\n",
            "      cotton       1.00      0.71      0.83        17\n",
            "      grapes       1.00      1.00      1.00         8\n",
            "        jute       1.00      1.00      1.00         7\n",
            " kidneybeans       1.00      0.90      0.95        10\n",
            "      lentil       1.00      1.00      1.00        10\n",
            "       maize       0.81      0.81      0.81        16\n",
            "       mango       1.00      1.00      1.00        10\n",
            "   mothbeans       0.78      1.00      0.88         7\n",
            "    mungbean       0.78      1.00      0.88         7\n",
            "   muskmelon       1.00      0.90      0.95        10\n",
            "      orange       1.00      1.00      1.00        10\n",
            "      papaya       1.00      1.00      1.00         8\n",
            "  pigeonpeas       0.89      1.00      0.94         8\n",
            " pomegranate       1.00      1.00      1.00        11\n",
            "        rice       1.00      1.00      1.00        13\n",
            "  watermelon       0.83      1.00      0.91         5\n",
            "\n",
            "    accuracy                           0.95       220\n",
            "   macro avg       0.95      0.97      0.96       220\n",
            "weighted avg       0.96      0.95      0.95       220\n",
            "\n"
          ],
          "name": "stdout"
        }
      ]
    },
    {
      "cell_type": "code",
      "metadata": {
        "colab": {
          "base_uri": "https://localhost:8080/"
        },
        "id": "9Fi_O0HGtMt_",
        "outputId": "fc53c8bb-467a-4e4e-ea4f-88f626b28aa9"
      },
      "source": [
        "from sklearn.ensemble import RandomForestClassifier\n",
        "rf=RandomForestClassifier()\n",
        "rf.fit(x_train, y_train)\n",
        "rfpredictions = decision_tree.predict(x_test)\n",
        "print(confusion_matrix(y_test,rfpredictions))\n",
        "print(classification_report(y_test,rfpredictions))"
      ],
      "execution_count": null,
      "outputs": [
        {
          "output_type": "stream",
          "text": [
            "[[ 3  0  0  0  0  0  0  0  0  0  0  0  0  0  0  0  0  0  0  0  0  0]\n",
            " [ 0 10  0  0  0  0  0  0  0  0  0  0  0  0  0  0  0  0  0  0  0  0]\n",
            " [ 0  0 12  0  0  0  0  0  0  0  0  0  0  0  0  0  0  0  0  0  0  0]\n",
            " [ 0  0  0 10  0  0  0  0  0  0  0  0  0  0  0  0  0  0  0  0  0  0]\n",
            " [ 0  0  0  0 16  0  0  0  0  0  0  0  0  0  0  0  0  0  0  0  0  0]\n",
            " [ 0  0  0  0  0 12  0  0  0  0  0  0  0  0  0  0  0  0  0  0  0  0]\n",
            " [ 0  0  0  0  0  0 12  0  0  0  0  3  0  0  2  0  0  0  0  0  0  0]\n",
            " [ 0  0  0  0  0  0  0  8  0  0  0  0  0  0  0  0  0  0  0  0  0  0]\n",
            " [ 0  0  0  0  0  0  0  0  7  0  0  0  0  0  0  0  0  0  0  0  0  0]\n",
            " [ 0  0  0  1  0  0  0  0  0  9  0  0  0  0  0  0  0  0  0  0  0  0]\n",
            " [ 0  0  0  0  0  0  0  0  0  0 10  0  0  0  0  0  0  0  0  0  0  0]\n",
            " [ 0  0  0  0  0  0  0  0  0  0  0 13  0  2  0  0  0  0  1  0  0  0]\n",
            " [ 0  0  0  0  0  0  0  0  0  0  0  0 10  0  0  0  0  0  0  0  0  0]\n",
            " [ 0  0  0  0  0  0  0  0  0  0  0  0  0  7  0  0  0  0  0  0  0  0]\n",
            " [ 0  0  0  0  0  0  0  0  0  0  0  0  0  0  7  0  0  0  0  0  0  0]\n",
            " [ 0  0  0  0  0  0  0  0  0  0  0  0  0  0  0  9  0  0  0  0  0  1]\n",
            " [ 0  0  0  0  0  0  0  0  0  0  0  0  0  0  0  0 10  0  0  0  0  0]\n",
            " [ 0  0  0  0  0  0  0  0  0  0  0  0  0  0  0  0  0  8  0  0  0  0]\n",
            " [ 0  0  0  0  0  0  0  0  0  0  0  0  0  0  0  0  0  0  8  0  0  0]\n",
            " [ 0  0  0  0  0  0  0  0  0  0  0  0  0  0  0  0  0  0  0 11  0  0]\n",
            " [ 0  0  0  0  0  0  0  0  0  0  0  0  0  0  0  0  0  0  0  0 13  0]\n",
            " [ 0  0  0  0  0  0  0  0  0  0  0  0  0  0  0  0  0  0  0  0  0  5]]\n",
            "              precision    recall  f1-score   support\n",
            "\n",
            "       apple       1.00      1.00      1.00         3\n",
            "      banana       1.00      1.00      1.00        10\n",
            "   blackgram       1.00      1.00      1.00        12\n",
            "    chickpea       0.91      1.00      0.95        10\n",
            "     coconut       1.00      1.00      1.00        16\n",
            "      coffee       1.00      1.00      1.00        12\n",
            "      cotton       1.00      0.71      0.83        17\n",
            "      grapes       1.00      1.00      1.00         8\n",
            "        jute       1.00      1.00      1.00         7\n",
            " kidneybeans       1.00      0.90      0.95        10\n",
            "      lentil       1.00      1.00      1.00        10\n",
            "       maize       0.81      0.81      0.81        16\n",
            "       mango       1.00      1.00      1.00        10\n",
            "   mothbeans       0.78      1.00      0.88         7\n",
            "    mungbean       0.78      1.00      0.88         7\n",
            "   muskmelon       1.00      0.90      0.95        10\n",
            "      orange       1.00      1.00      1.00        10\n",
            "      papaya       1.00      1.00      1.00         8\n",
            "  pigeonpeas       0.89      1.00      0.94         8\n",
            " pomegranate       1.00      1.00      1.00        11\n",
            "        rice       1.00      1.00      1.00        13\n",
            "  watermelon       0.83      1.00      0.91         5\n",
            "\n",
            "    accuracy                           0.95       220\n",
            "   macro avg       0.95      0.97      0.96       220\n",
            "weighted avg       0.96      0.95      0.95       220\n",
            "\n"
          ],
          "name": "stdout"
        }
      ]
    },
    {
      "cell_type": "code",
      "metadata": {
        "colab": {
          "base_uri": "https://localhost:8080/"
        },
        "id": "u_y0dbTLuTaT",
        "outputId": "dda0ad6e-d14d-4da6-879c-50fc99b2e12d"
      },
      "source": [
        "from sklearn.naive_bayes import GaussianNB\n",
        "gnb = GaussianNB()\n",
        "gnb.fit(x_train, y_train)\n",
        "gnbpredictions = decision_tree.predict(x_test)\n",
        "print(confusion_matrix(y_test,gnbpredictions))\n",
        "print(classification_report(y_test,gnbpredictions))"
      ],
      "execution_count": null,
      "outputs": [
        {
          "output_type": "stream",
          "text": [
            "[[ 3  0  0  0  0  0  0  0  0  0  0  0  0  0  0  0  0  0  0  0  0  0]\n",
            " [ 0 10  0  0  0  0  0  0  0  0  0  0  0  0  0  0  0  0  0  0  0  0]\n",
            " [ 0  0 12  0  0  0  0  0  0  0  0  0  0  0  0  0  0  0  0  0  0  0]\n",
            " [ 0  0  0 10  0  0  0  0  0  0  0  0  0  0  0  0  0  0  0  0  0  0]\n",
            " [ 0  0  0  0 16  0  0  0  0  0  0  0  0  0  0  0  0  0  0  0  0  0]\n",
            " [ 0  0  0  0  0 12  0  0  0  0  0  0  0  0  0  0  0  0  0  0  0  0]\n",
            " [ 0  0  0  0  0  0 12  0  0  0  0  3  0  0  2  0  0  0  0  0  0  0]\n",
            " [ 0  0  0  0  0  0  0  8  0  0  0  0  0  0  0  0  0  0  0  0  0  0]\n",
            " [ 0  0  0  0  0  0  0  0  7  0  0  0  0  0  0  0  0  0  0  0  0  0]\n",
            " [ 0  0  0  1  0  0  0  0  0  9  0  0  0  0  0  0  0  0  0  0  0  0]\n",
            " [ 0  0  0  0  0  0  0  0  0  0 10  0  0  0  0  0  0  0  0  0  0  0]\n",
            " [ 0  0  0  0  0  0  0  0  0  0  0 13  0  2  0  0  0  0  1  0  0  0]\n",
            " [ 0  0  0  0  0  0  0  0  0  0  0  0 10  0  0  0  0  0  0  0  0  0]\n",
            " [ 0  0  0  0  0  0  0  0  0  0  0  0  0  7  0  0  0  0  0  0  0  0]\n",
            " [ 0  0  0  0  0  0  0  0  0  0  0  0  0  0  7  0  0  0  0  0  0  0]\n",
            " [ 0  0  0  0  0  0  0  0  0  0  0  0  0  0  0  9  0  0  0  0  0  1]\n",
            " [ 0  0  0  0  0  0  0  0  0  0  0  0  0  0  0  0 10  0  0  0  0  0]\n",
            " [ 0  0  0  0  0  0  0  0  0  0  0  0  0  0  0  0  0  8  0  0  0  0]\n",
            " [ 0  0  0  0  0  0  0  0  0  0  0  0  0  0  0  0  0  0  8  0  0  0]\n",
            " [ 0  0  0  0  0  0  0  0  0  0  0  0  0  0  0  0  0  0  0 11  0  0]\n",
            " [ 0  0  0  0  0  0  0  0  0  0  0  0  0  0  0  0  0  0  0  0 13  0]\n",
            " [ 0  0  0  0  0  0  0  0  0  0  0  0  0  0  0  0  0  0  0  0  0  5]]\n",
            "              precision    recall  f1-score   support\n",
            "\n",
            "       apple       1.00      1.00      1.00         3\n",
            "      banana       1.00      1.00      1.00        10\n",
            "   blackgram       1.00      1.00      1.00        12\n",
            "    chickpea       0.91      1.00      0.95        10\n",
            "     coconut       1.00      1.00      1.00        16\n",
            "      coffee       1.00      1.00      1.00        12\n",
            "      cotton       1.00      0.71      0.83        17\n",
            "      grapes       1.00      1.00      1.00         8\n",
            "        jute       1.00      1.00      1.00         7\n",
            " kidneybeans       1.00      0.90      0.95        10\n",
            "      lentil       1.00      1.00      1.00        10\n",
            "       maize       0.81      0.81      0.81        16\n",
            "       mango       1.00      1.00      1.00        10\n",
            "   mothbeans       0.78      1.00      0.88         7\n",
            "    mungbean       0.78      1.00      0.88         7\n",
            "   muskmelon       1.00      0.90      0.95        10\n",
            "      orange       1.00      1.00      1.00        10\n",
            "      papaya       1.00      1.00      1.00         8\n",
            "  pigeonpeas       0.89      1.00      0.94         8\n",
            " pomegranate       1.00      1.00      1.00        11\n",
            "        rice       1.00      1.00      1.00        13\n",
            "  watermelon       0.83      1.00      0.91         5\n",
            "\n",
            "    accuracy                           0.95       220\n",
            "   macro avg       0.95      0.97      0.96       220\n",
            "weighted avg       0.96      0.95      0.95       220\n",
            "\n"
          ],
          "name": "stdout"
        }
      ]
    },
    {
      "cell_type": "code",
      "metadata": {
        "colab": {
          "base_uri": "https://localhost:8080/"
        },
        "id": "xVqJ1OwedK1w",
        "outputId": "fa379bc0-25c0-4d61-bf31-6361afd692ca"
      },
      "source": [
        "from sklearn.neighbors import KNeighborsClassifier\n",
        "knn = KNeighborsClassifier(n_neighbors=5)\n",
        "knn.fit(x_train, y_train)"
      ],
      "execution_count": null,
      "outputs": [
        {
          "output_type": "execute_result",
          "data": {
            "text/plain": [
              "KNeighborsClassifier(algorithm='auto', leaf_size=30, metric='minkowski',\n",
              "                     metric_params=None, n_jobs=None, n_neighbors=5, p=2,\n",
              "                     weights='uniform')"
            ]
          },
          "metadata": {
            "tags": []
          },
          "execution_count": 39
        }
      ]
    },
    {
      "cell_type": "code",
      "metadata": {
        "colab": {
          "base_uri": "https://localhost:8080/"
        },
        "id": "0-UHPoCodZZf",
        "outputId": "79049528-1b30-46ae-e967-435bd6b9e4e0"
      },
      "source": [
        "knnpredictions = knn.predict(x_test)\n",
        "knnpredictions"
      ],
      "execution_count": null,
      "outputs": [
        {
          "output_type": "execute_result",
          "data": {
            "text/plain": [
              "array(['chickpea', 'coconut', 'cotton', 'coffee', 'coconut', 'lentil',\n",
              "       'muskmelon', 'mango', 'coconut', 'mothbeans', 'maize', 'maize',\n",
              "       'maize', 'blackgram', 'banana', 'cotton', 'chickpea', 'cotton',\n",
              "       'papaya', 'cotton', 'blackgram', 'kidneybeans', 'mungbean',\n",
              "       'cotton', 'kidneybeans', 'mango', 'pigeonpeas', 'orange', 'orange',\n",
              "       'maize', 'maize', 'pomegranate', 'coffee', 'maize', 'cotton',\n",
              "       'mothbeans', 'watermelon', 'pigeonpeas', 'cotton', 'apple',\n",
              "       'muskmelon', 'coffee', 'grapes', 'orange', 'kidneybeans',\n",
              "       'pomegranate', 'grapes', 'banana', 'rice', 'rice', 'coconut',\n",
              "       'rice', 'jute', 'coffee', 'blackgram', 'muskmelon', 'blackgram',\n",
              "       'blackgram', 'rice', 'coconut', 'lentil', 'cotton', 'rice',\n",
              "       'blackgram', 'coffee', 'muskmelon', 'chickpea', 'maize', 'mango',\n",
              "       'watermelon', 'muskmelon', 'grapes', 'muskmelon', 'coffee',\n",
              "       'muskmelon', 'mungbean', 'coconut', 'mungbean', 'orange', 'coffee',\n",
              "       'coconut', 'grapes', 'coconut', 'cotton', 'cotton', 'papaya',\n",
              "       'chickpea', 'rice', 'pomegranate', 'mango', 'jute', 'banana',\n",
              "       'blackgram', 'lentil', 'papaya', 'kidneybeans', 'lentil', 'grapes',\n",
              "       'maize', 'grapes', 'muskmelon', 'apple', 'coffee', 'pomegranate',\n",
              "       'orange', 'pigeonpeas', 'kidneybeans', 'chickpea', 'kidneybeans',\n",
              "       'chickpea', 'grapes', 'kidneybeans', 'chickpea', 'watermelon',\n",
              "       'pomegranate', 'maize', 'maize', 'chickpea', 'orange', 'maize',\n",
              "       'lentil', 'mango', 'lentil', 'mungbean', 'rice', 'coffee',\n",
              "       'papaya', 'banana', 'coconut', 'lentil', 'maize', 'lentil',\n",
              "       'papaya', 'jute', 'pigeonpeas', 'chickpea', 'coconut',\n",
              "       'pomegranate', 'cotton', 'pigeonpeas', 'mothbeans', 'maize',\n",
              "       'mango', 'mango', 'rice', 'muskmelon', 'blackgram', 'mango',\n",
              "       'jute', 'chickpea', 'maize', 'grapes', 'orange', 'jute', 'maize',\n",
              "       'coconut', 'lentil', 'banana', 'jute', 'kidneybeans', 'mothbeans',\n",
              "       'kidneybeans', 'pigeonpeas', 'kidneybeans', 'pomegranate', 'apple',\n",
              "       'mothbeans', 'maize', 'cotton', 'pomegranate', 'papaya', 'lentil',\n",
              "       'coconut', 'coconut', 'banana', 'coconut', 'cotton', 'mungbean',\n",
              "       'maize', 'mothbeans', 'watermelon', 'blackgram', 'cotton',\n",
              "       'muskmelon', 'blackgram', 'mango', 'blackgram', 'pomegranate',\n",
              "       'banana', 'banana', 'rice', 'cotton', 'papaya', 'banana', 'rice',\n",
              "       'cotton', 'rice', 'mango', 'orange', 'watermelon', 'orange',\n",
              "       'pomegranate', 'rice', 'jute', 'pomegranate', 'mango', 'orange',\n",
              "       'blackgram', 'coffee', 'pomegranate', 'coffee', 'papaya',\n",
              "       'mungbean', 'coconut', 'jute', 'blackgram', 'coffee', 'mungbean',\n",
              "       'pigeonpeas', 'banana'], dtype=object)"
            ]
          },
          "metadata": {
            "tags": []
          },
          "execution_count": 27
        }
      ]
    },
    {
      "cell_type": "code",
      "metadata": {
        "colab": {
          "base_uri": "https://localhost:8080/"
        },
        "id": "BMqWwlmTdnkq",
        "outputId": "977ded08-6a14-424b-ec77-504b3cbce329"
      },
      "source": [
        "from sklearn.metrics import classification_report, confusion_matrix\n",
        "print(confusion_matrix(y_test,knnpredictions))\n",
        "print(classification_report(y_test,knnpredictions))"
      ],
      "execution_count": null,
      "outputs": [
        {
          "output_type": "stream",
          "text": [
            "[[ 3  0  0  0  0  0  0  0  0  0  0  0  0  0  0  0  0  0  0  0  0  0]\n",
            " [ 0 10  0  0  0  0  0  0  0  0  0  0  0  0  0  0  0  0  0  0  0  0]\n",
            " [ 0  0 12  0  0  0  0  0  0  0  0  0  0  0  0  0  0  0  0  0  0  0]\n",
            " [ 0  0  0 10  0  0  0  0  0  0  0  0  0  0  0  0  0  0  0  0  0  0]\n",
            " [ 0  0  0  0 15  0  0  0  0  0  0  0  0  0  0  0  0  0  0  1  0  0]\n",
            " [ 0  0  0  0  0 12  0  0  0  0  0  0  0  0  0  0  0  0  0  0  0  0]\n",
            " [ 0  0  0  0  0  0 16  0  0  0  0  1  0  0  0  0  0  0  0  0  0  0]\n",
            " [ 0  0  0  0  0  0  0  8  0  0  0  0  0  0  0  0  0  0  0  0  0  0]\n",
            " [ 0  0  0  0  0  0  0  0  7  0  0  0  0  0  0  0  0  0  0  0  0  0]\n",
            " [ 0  0  0  0  0  0  0  0  0 10  0  0  0  0  0  0  0  0  0  0  0  0]\n",
            " [ 0  0  0  0  0  0  0  0  0  0 10  0  0  0  0  0  0  0  0  0  0  0]\n",
            " [ 0  0  0  0  0  0  0  0  0  0  0 16  0  0  0  0  0  0  0  0  0  0]\n",
            " [ 0  0  0  0  0  0  0  0  0  0  0  0 10  0  0  0  0  0  0  0  0  0]\n",
            " [ 0  0  0  0  0  0  0  0  0  0  0  0  1  6  0  0  0  0  0  0  0  0]\n",
            " [ 0  0  0  0  0  0  0  0  0  0  0  0  0  0  7  0  0  0  0  0  0  0]\n",
            " [ 0  0  0  0  0  0  0  0  0  0  0  0  0  0  0 10  0  0  0  0  0  0]\n",
            " [ 0  0  0  0  0  0  0  0  0  0  0  0  0  0  0  0 10  0  0  0  0  0]\n",
            " [ 0  0  0  0  0  0  0  0  0  0  0  0  0  0  0  0  0  8  0  0  0  0]\n",
            " [ 0  0  1  0  0  0  0  0  0  0  0  0  0  0  0  0  0  0  7  0  0  0]\n",
            " [ 0  0  0  0  0  0  0  0  0  0  0  0  0  0  0  0  0  0  0 11  0  0]\n",
            " [ 0  0  0  0  0  0  0  0  1  0  0  0  0  0  0  0  0  0  0  0 12  0]\n",
            " [ 0  0  0  0  0  0  0  0  0  0  0  0  0  0  0  0  0  0  0  0  0  5]]\n",
            "              precision    recall  f1-score   support\n",
            "\n",
            "       apple       1.00      1.00      1.00         3\n",
            "      banana       1.00      1.00      1.00        10\n",
            "   blackgram       0.92      1.00      0.96        12\n",
            "    chickpea       1.00      1.00      1.00        10\n",
            "     coconut       1.00      0.94      0.97        16\n",
            "      coffee       1.00      1.00      1.00        12\n",
            "      cotton       1.00      0.94      0.97        17\n",
            "      grapes       1.00      1.00      1.00         8\n",
            "        jute       0.88      1.00      0.93         7\n",
            " kidneybeans       1.00      1.00      1.00        10\n",
            "      lentil       1.00      1.00      1.00        10\n",
            "       maize       0.94      1.00      0.97        16\n",
            "       mango       0.91      1.00      0.95        10\n",
            "   mothbeans       1.00      0.86      0.92         7\n",
            "    mungbean       1.00      1.00      1.00         7\n",
            "   muskmelon       1.00      1.00      1.00        10\n",
            "      orange       1.00      1.00      1.00        10\n",
            "      papaya       1.00      1.00      1.00         8\n",
            "  pigeonpeas       1.00      0.88      0.93         8\n",
            " pomegranate       0.92      1.00      0.96        11\n",
            "        rice       1.00      0.92      0.96        13\n",
            "  watermelon       1.00      1.00      1.00         5\n",
            "\n",
            "    accuracy                           0.98       220\n",
            "   macro avg       0.98      0.98      0.98       220\n",
            "weighted avg       0.98      0.98      0.98       220\n",
            "\n"
          ],
          "name": "stdout"
        }
      ]
    },
    {
      "cell_type": "code",
      "metadata": {
        "colab": {
          "base_uri": "https://localhost:8080/"
        },
        "id": "lr03uOKQd7e7",
        "outputId": "1ce7178c-a5a6-4980-be87-1902289faccc"
      },
      "source": [
        "input = [[65., 50., 50., 27., 70., 6.4, 200.]]\n",
        "input = scaler.fit_transform(input)\n",
        "output= knn.predict(input)\n",
        "output\n"
      ],
      "execution_count": null,
      "outputs": [
        {
          "output_type": "execute_result",
          "data": {
            "text/plain": [
              "array(['maize'], dtype=object)"
            ]
          },
          "metadata": {
            "tags": []
          },
          "execution_count": 29
        }
      ]
    }
  ]
}